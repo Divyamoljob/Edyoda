{
 "cells": [
  {
   "cell_type": "code",
   "execution_count": 1,
   "id": "8a9de70c",
   "metadata": {},
   "outputs": [],
   "source": [
    "import numpy"
   ]
  },
  {
   "cell_type": "markdown",
   "id": "b618da93",
   "metadata": {},
   "source": [
    "### Q1"
   ]
  },
  {
   "cell_type": "code",
   "execution_count": 4,
   "id": "bb799164",
   "metadata": {},
   "outputs": [
    {
     "name": "stdout",
     "output_type": "stream",
     "text": [
      "[ 0.30608712  1.08353754 -1.11062772  0.52715576  1.11289404 -0.03865803\n",
      "  0.77330322 -0.20497516 -0.23898831  0.04677129 -0.4404054  -0.34183496\n",
      "  0.42237132  0.09183366  0.59506677  0.48560927  1.59078079 -0.240504\n",
      "  0.47873255  2.23353055  1.45965388 -0.15752744  0.34995513 -0.72440723\n",
      "  0.32747438]\n"
     ]
    }
   ],
   "source": [
    "a = numpy.random.normal(size=25)\n",
    "print(a)"
   ]
  },
  {
   "cell_type": "markdown",
   "id": "2f6876ee",
   "metadata": {},
   "source": [
    "### Q2."
   ]
  },
  {
   "cell_type": "code",
   "execution_count": 6,
   "id": "be5c9b0f",
   "metadata": {},
   "outputs": [
    {
     "name": "stdout",
     "output_type": "stream",
     "text": [
      "0.531492081934436\n"
     ]
    }
   ],
   "source": [
    "a = numpy.random.rand(30)\n",
    "b = a.mean()\n",
    "print(b)"
   ]
  },
  {
   "cell_type": "markdown",
   "id": "7b39bdbb",
   "metadata": {},
   "source": [
    "### Q3."
   ]
  },
  {
   "cell_type": "code",
   "execution_count": 9,
   "id": "ea995e63",
   "metadata": {},
   "outputs": [
    {
     "name": "stdout",
     "output_type": "stream",
     "text": [
      "[[  1   2   3   4   5   6   7   8   9  10]\n",
      " [ 11  12  13  14  15  16  17  18  19  20]\n",
      " [ 21  22  23  24  25  26  27  28  29  30]\n",
      " [ 31  32  33  34  35  36  37  38  39  40]\n",
      " [ 41  42  43  44  45  46  47  48  49  50]\n",
      " [ 51  52  53  54  55  56  57  58  59  60]\n",
      " [ 61  62  63  64  65  66  67  68  69  70]\n",
      " [ 71  72  73  74  75  76  77  78  79  80]\n",
      " [ 81  82  83  84  85  86  87  88  89  90]\n",
      " [ 91  92  93  94  95  96  97  98  99 100]]\n"
     ]
    }
   ],
   "source": [
    "a = numpy.arange(1, 101)\n",
    "b = a.reshape(10, 10)\n",
    "print(b)"
   ]
  },
  {
   "cell_type": "markdown",
   "id": "ebc06b6e",
   "metadata": {},
   "source": [
    "### Q4"
   ]
  },
  {
   "cell_type": "code",
   "execution_count": 11,
   "id": "6de6c597",
   "metadata": {},
   "outputs": [
    {
     "name": "stdout",
     "output_type": "stream",
     "text": [
      "0.0019954047275496656\n",
      "0.9967789978738961\n"
     ]
    }
   ],
   "source": [
    "a = numpy.random.rand(10, 10)\n",
    "min = a.min()\n",
    "max = a.max()\n",
    "print(min)\n",
    "print(max)"
   ]
  },
  {
   "cell_type": "markdown",
   "id": "8925520f",
   "metadata": {},
   "source": [
    "### Q5"
   ]
  },
  {
   "cell_type": "code",
   "execution_count": 16,
   "id": "2f74e912",
   "metadata": {},
   "outputs": [
    {
     "name": "stdout",
     "output_type": "stream",
     "text": [
      "14\n"
     ]
    }
   ],
   "source": [
    "f = numpy.array([1,2])\n",
    "g = numpy.array([4,5])\n",
    "a = numpy.dot(f, g)\n",
    "print(a)"
   ]
  },
  {
   "cell_type": "markdown",
   "id": "16e391f5",
   "metadata": {},
   "source": [
    "### Q6"
   ]
  },
  {
   "cell_type": "code",
   "execution_count": 17,
   "id": "d07c2641",
   "metadata": {},
   "outputs": [
    {
     "name": "stdout",
     "output_type": "stream",
     "text": [
      "[[1 2]\n",
      " [3 4]\n",
      " [5 6]]\n"
     ]
    }
   ],
   "source": [
    "x=numpy.array([[1,2],[3,4]])\n",
    "y=numpy.array([[5,6]])\n",
    "a = numpy.concatenate((x, y), axis=0)\n",
    "print(a)"
   ]
  },
  {
   "cell_type": "markdown",
   "id": "24428028",
   "metadata": {},
   "source": [
    "### Q7."
   ]
  },
  {
   "cell_type": "code",
   "execution_count": 18,
   "id": "18f049fb",
   "metadata": {},
   "outputs": [
    {
     "name": "stdout",
     "output_type": "stream",
     "text": [
      "[2 4]\n"
     ]
    }
   ],
   "source": [
    "a = numpy.array([1,2,3,2,3,4,3,4,5,6])\n",
    "b = numpy.array([7,2,10,2,7,4,9,4,9,8])\n",
    "c = numpy.intersect1d(a, b)\n",
    "print(c)"
   ]
  },
  {
   "cell_type": "markdown",
   "id": "d8d34409",
   "metadata": {},
   "source": [
    "### Q8."
   ]
  },
  {
   "cell_type": "code",
   "execution_count": 19,
   "id": "153160a2",
   "metadata": {},
   "outputs": [
    {
     "name": "stdout",
     "output_type": "stream",
     "text": [
      "[ 1  2  3  4  5  7  8 10]\n"
     ]
    }
   ],
   "source": [
    "arr = numpy.array([10,5,8,4,7,2,3,1])\n",
    "a = numpy.sort(arr)\n",
    "print(a)"
   ]
  },
  {
   "cell_type": "code",
   "execution_count": null,
   "id": "df4e20aa",
   "metadata": {},
   "outputs": [],
   "source": []
  }
 ],
 "metadata": {
  "kernelspec": {
   "display_name": "Python 3 (ipykernel)",
   "language": "python",
   "name": "python3"
  },
  "language_info": {
   "codemirror_mode": {
    "name": "ipython",
    "version": 3
   },
   "file_extension": ".py",
   "mimetype": "text/x-python",
   "name": "python",
   "nbconvert_exporter": "python",
   "pygments_lexer": "ipython3",
   "version": "3.9.6"
  }
 },
 "nbformat": 4,
 "nbformat_minor": 5
}

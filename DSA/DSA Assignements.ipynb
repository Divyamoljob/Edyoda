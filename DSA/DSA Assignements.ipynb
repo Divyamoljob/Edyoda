{
 "cells": [
  {
   "cell_type": "markdown",
   "id": "bd3ce6b1",
   "metadata": {},
   "source": [
    "Q1. Write a program to find all pairs of an integer array whose sum is equal to a given number?"
   ]
  },
  {
   "cell_type": "code",
   "execution_count": 3,
   "id": "348190ba",
   "metadata": {},
   "outputs": [
    {
     "name": "stdout",
     "output_type": "stream",
     "text": [
      "[ 6 , 4 ],[ 6 , 4 ],[ 6 , 4 ],[ 4 , 6 ],[ 2 , 8 ],[ 4 , 6 ],[ 7 , 3 ],[ 5 , 5 ],[ 5 , 5 ],[ 5 , 5 ],"
     ]
    }
   ],
   "source": [
    "a = [6,4,2,4,7,5,5,7,8,5,3,4]\n",
    "b = 10\n",
    "for i in range(int(len(a)/2)):\n",
    "    for j in a:\n",
    "        if a[i]+j==b:\n",
    "            print('[', a[i], ',', j, ']', end=',')"
   ]
  },
  {
   "cell_type": "markdown",
   "id": "0a7ec519",
   "metadata": {},
   "source": [
    "Q2. Write a program to reverse an array in place? In place means you cannot create a new array. You have to update the original array."
   ]
  },
  {
   "cell_type": "code",
   "execution_count": 7,
   "id": "b3d5f4e8",
   "metadata": {},
   "outputs": [
    {
     "name": "stdout",
     "output_type": "stream",
     "text": [
      "[7, 6, 4, 4, 5, 6, 7, 76, 5, 8]\n"
     ]
    }
   ],
   "source": [
    "a = [8,5,76,7,6,5,4,4,6,7]\n",
    "l = len(a)-1\n",
    "for i in range(int(len(a)/2)):\n",
    "    temp = a[i]\n",
    "    a[i] = a[l-i]\n",
    "    a[l-i] = temp\n",
    "print(a)"
   ]
  },
  {
   "cell_type": "markdown",
   "id": "5f6c73a4",
   "metadata": {},
   "source": [
    "Q3. Write a program to check if two strings are a rotation of each other?"
   ]
  },
  {
   "cell_type": "code",
   "execution_count": 9,
   "id": "43554eae",
   "metadata": {},
   "outputs": [
    {
     "name": "stdout",
     "output_type": "stream",
     "text": [
      "First string is rotation of second string\n"
     ]
    }
   ],
   "source": [
    "a = \"divya\"\n",
    "b = 'ayvid'\n",
    "\n",
    "a = a.split()\n",
    "b = b.split()\n",
    "if len(a)==len(b):\n",
    "    for i, j in zip(a, b):\n",
    "        if i==j[-1::-1]:\n",
    "            print('First string is rotation of second string')\n",
    "        else:\n",
    "            print('First string is not rotation of second string')"
   ]
  },
  {
   "cell_type": "markdown",
   "id": "a9b5dad7",
   "metadata": {},
   "source": [
    "Q4. Write a program to print the first non-repeated character from a string?"
   ]
  },
  {
   "cell_type": "code",
   "execution_count": 14,
   "id": "e0f394cb",
   "metadata": {},
   "outputs": [
    {
     "name": "stdout",
     "output_type": "stream",
     "text": [
      "v\n"
     ]
    }
   ],
   "source": [
    "a = 'divyaid'\n",
    "for i in range(len(a)):\n",
    "    flag = True\n",
    "    for j in range(len(a)):\n",
    "        if i!=j:\n",
    "            if a[i]==a[j]:\n",
    "                flag=False\n",
    "    if flag==True:\n",
    "        print(a[i])\n",
    "        break"
   ]
  },
  {
   "cell_type": "markdown",
   "id": "fbbb8eee",
   "metadata": {},
   "source": [
    "Q5. Read about the Tower of Hanoi algorithm. Write a program to implement it."
   ]
  },
  {
   "cell_type": "code",
   "execution_count": 16,
   "id": "a7759878",
   "metadata": {},
   "outputs": [
    {
     "name": "stdout",
     "output_type": "stream",
     "text": [
      "Moving disk  1 from  A  to  C\n",
      "Moving disk  2 from  A  to  B\n",
      "Moving disk  1 from  C  to  B\n",
      "Moving disk  3 from  A  to  C\n",
      "Moving disk  1 from  B  to  A\n",
      "Moving disk  2 from  B  to  C\n",
      "Moving disk  1 from  A  to  C\n"
     ]
    }
   ],
   "source": [
    "def hanoi(n, A, B, C):\n",
    "    if n==1:\n",
    "        print('Moving disk ', n, 'from ', A, ' to ', C)\n",
    "    else:\n",
    "        hanoi(n-1, A, C, B)\n",
    "        print('Moving disk ', n, 'from ', A, ' to ', C)\n",
    "        hanoi(n-1, B, A, C)\n",
    "        \n",
    "hanoi(3, 'A', 'B', 'C')"
   ]
  },
  {
   "cell_type": "markdown",
   "id": "cbaf836e",
   "metadata": {},
   "source": [
    "Q6. Read about infix, prefix, and postfix expressions. Write a program to convert postfix to prefix expression."
   ]
  },
  {
   "cell_type": "code",
   "execution_count": 19,
   "id": "397b8dd8",
   "metadata": {},
   "outputs": [
    {
     "name": "stdout",
     "output_type": "stream",
     "text": [
      "['-*+abcd']\n"
     ]
    }
   ],
   "source": [
    "a = 'ab+c*d-'\n",
    "def convert(data):\n",
    "    stack = []\n",
    "    operators = '* - + /'.split()\n",
    "    for i in range(len(data)):\n",
    "        if data[i] in operators:\n",
    "            operand1 = stack.pop()\n",
    "            operand2 = stack.pop()\n",
    "            temp = data[i]+operand2+operand1\n",
    "            stack.append(temp)\n",
    "        else:\n",
    "            stack.append(data[i])\n",
    "    return stack\n",
    "\n",
    "d = convert(a)\n",
    "print(d)"
   ]
  },
  {
   "cell_type": "markdown",
   "id": "fbc4abdd",
   "metadata": {},
   "source": [
    "Q7. Write a program to convert prefix expression to infix expression."
   ]
  },
  {
   "cell_type": "code",
   "execution_count": 26,
   "id": "37352cd4",
   "metadata": {},
   "outputs": [
    {
     "name": "stdout",
     "output_type": "stream",
     "text": [
      "((A-(B/C))*((A/K)-L))\n"
     ]
    }
   ],
   "source": [
    "def prefixToInfix(prefix):\n",
    "    stack = []\n",
    "    i = len(prefix) - 1\n",
    "    while i >= 0:\n",
    "        if (prefix[i]) not in ['*', '-', '/', '^', '(', ')']:\n",
    "            stack.append(prefix[i])\n",
    "            i -= 1\n",
    "        else:\n",
    "            str = \"(\" + stack.pop() + prefix[i] + stack.pop() + \")\"\n",
    "            stack.append(str)\n",
    "            i -= 1\n",
    "    return stack.pop()\n",
    "if __name__==\"__main__\":\n",
    "\tstr = \"*-A/BC-/AKL\"\n",
    "\tprint(prefixToInfix(str))"
   ]
  },
  {
   "cell_type": "markdown",
   "id": "3364733b",
   "metadata": {},
   "source": [
    "Q8. Write a program to check if all the brackets are closed in a given code snippet."
   ]
  },
  {
   "cell_type": "code",
   "execution_count": 31,
   "id": "9a54b061",
   "metadata": {},
   "outputs": [
    {
     "name": "stdout",
     "output_type": "stream",
     "text": [
      "Brackets are not closed correctly\n"
     ]
    }
   ],
   "source": [
    "a = 'if (a==b(c)})'\n",
    "B = a.count('(')\n",
    "cB = a.count(')')\n",
    "S = a.count('[')\n",
    "cS = a.count(']')\n",
    "C = a.count('{')\n",
    "cC = a.count('}')\n",
    "if B!=cB or C!=cC or S!=cS:\n",
    "    print('Brackets are not closed correctly')\n",
    "else:\n",
    "    print('Looks good')"
   ]
  },
  {
   "cell_type": "markdown",
   "id": "fc2486fa",
   "metadata": {},
   "source": [
    "Q9. Write a program to reverse a stack."
   ]
  },
  {
   "cell_type": "code",
   "execution_count": 40,
   "id": "a20d65ba",
   "metadata": {},
   "outputs": [
    {
     "name": "stdout",
     "output_type": "stream",
     "text": [
      "[67, 65, 45, 43, 5]\n"
     ]
    }
   ],
   "source": [
    "class Rev:\n",
    "    l1 = []\n",
    "    def __init__(self, reverse):\n",
    "        self.delete(reverse)\n",
    "#         if len(s1)==len(data):\n",
    "#             self.display()\n",
    "    def delete(self, reverse):\n",
    "        if len(reverse)>0:\n",
    "            element = reverse.pop()\n",
    "            self.insert(element)\n",
    "            Rev(reverse)\n",
    "    def insert(self, reverse):\n",
    "        self.l1.append(reverse)\n",
    "    def display(self):\n",
    "        print(self.l1)\n",
    "\n",
    "a = Rev([5,43,45,65,67])\n",
    "a.display()"
   ]
  },
  {
   "cell_type": "markdown",
   "id": "d7ee8ef8",
   "metadata": {},
   "source": [
    "Q10. Write a program to find the smallest number using a stack."
   ]
  },
  {
   "cell_type": "code",
   "execution_count": 47,
   "id": "859f8edc",
   "metadata": {},
   "outputs": [
    {
     "name": "stdout",
     "output_type": "stream",
     "text": [
      "1\n"
     ]
    }
   ],
   "source": [
    "class smallest(object):\n",
    "   small=float('inf')\n",
    "   def __init__(self):\n",
    "      self.small=float('inf')\n",
    "      self.stack = []\n",
    "   def insert(self, x):\n",
    "      if x<=self.small:\n",
    "         self.stack.append(self.small)\n",
    "         self.small = x\n",
    "      self.stack.append(x)\n",
    "   def delete(self):\n",
    "      t = self.stack[-1]\n",
    "      self.stack.delete()\n",
    "      if self.small == t:\n",
    "         self.small = self.stack[-1]\n",
    "         self.stack.delete()\n",
    "   def top(self):\n",
    "      return self.stack[-1]\n",
    "   def getMin(self):\n",
    "      return self.small\n",
    "m = smallest()\n",
    "m.insert(5)\n",
    "m.insert(2)\n",
    "m.insert(1)\n",
    "print(m.getMin())\n"
   ]
  }
 ],
 "metadata": {
  "kernelspec": {
   "display_name": "Python 3 (ipykernel)",
   "language": "python",
   "name": "python3"
  },
  "language_info": {
   "codemirror_mode": {
    "name": "ipython",
    "version": 3
   },
   "file_extension": ".py",
   "mimetype": "text/x-python",
   "name": "python",
   "nbconvert_exporter": "python",
   "pygments_lexer": "ipython3",
   "version": "3.9.6"
  }
 },
 "nbformat": 4,
 "nbformat_minor": 5
}
